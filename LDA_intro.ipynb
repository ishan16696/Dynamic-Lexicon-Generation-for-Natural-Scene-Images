{
 "cells": [
  {
   "cell_type": "code",
   "execution_count": 40,
   "metadata": {},
   "outputs": [],
   "source": [
    "import pandas as pd\n",
    "\n",
    "import gensim\n",
    "from gensim.utils import simple_preprocess\n",
    "from gensim.parsing.preprocessing import STOPWORDS\n",
    "from nltk.stem import WordNetLemmatizer, SnowballStemmer\n",
    "from nltk.stem.porter import *\n",
    "import numpy as np\n",
    "np.random.seed(2018)\n"
   ]
  },
  {
   "cell_type": "code",
   "execution_count": 3,
   "metadata": {},
   "outputs": [],
   "source": [
    "data = pd.read_csv('/home/tyagi/Downloads/data-master/abcnews-date-text.csv', error_bad_lines=False);\n",
    "data_text = data[['headline_text']]\n",
    "data_text['index'] = data_text.index\n",
    "documents = data_text\n"
   ]
  },
  {
   "cell_type": "code",
   "execution_count": 41,
   "metadata": {},
   "outputs": [
    {
     "data": {
      "text/plain": [
       "(1082168, 2)"
      ]
     },
     "execution_count": 41,
     "metadata": {},
     "output_type": "execute_result"
    }
   ],
   "source": [
    "documents.shape"
   ]
  },
  {
   "cell_type": "code",
   "execution_count": 42,
   "metadata": {},
   "outputs": [
    {
     "data": {
      "text/html": [
       "<div>\n",
       "<style scoped>\n",
       "    .dataframe tbody tr th:only-of-type {\n",
       "        vertical-align: middle;\n",
       "    }\n",
       "\n",
       "    .dataframe tbody tr th {\n",
       "        vertical-align: top;\n",
       "    }\n",
       "\n",
       "    .dataframe thead th {\n",
       "        text-align: right;\n",
       "    }\n",
       "</style>\n",
       "<table border=\"1\" class=\"dataframe\">\n",
       "  <thead>\n",
       "    <tr style=\"text-align: right;\">\n",
       "      <th></th>\n",
       "      <th>headline_text</th>\n",
       "      <th>index</th>\n",
       "    </tr>\n",
       "  </thead>\n",
       "  <tbody>\n",
       "    <tr>\n",
       "      <th>0</th>\n",
       "      <td>aba decides against community broadcasting lic...</td>\n",
       "      <td>0</td>\n",
       "    </tr>\n",
       "    <tr>\n",
       "      <th>1</th>\n",
       "      <td>act fire witnesses must be aware of defamation</td>\n",
       "      <td>1</td>\n",
       "    </tr>\n",
       "    <tr>\n",
       "      <th>2</th>\n",
       "      <td>a g calls for infrastructure protection summit</td>\n",
       "      <td>2</td>\n",
       "    </tr>\n",
       "    <tr>\n",
       "      <th>3</th>\n",
       "      <td>air nz staff in aust strike for pay rise</td>\n",
       "      <td>3</td>\n",
       "    </tr>\n",
       "    <tr>\n",
       "      <th>4</th>\n",
       "      <td>air nz strike to affect australian travellers</td>\n",
       "      <td>4</td>\n",
       "    </tr>\n",
       "  </tbody>\n",
       "</table>\n",
       "</div>"
      ],
      "text/plain": [
       "                                       headline_text  index\n",
       "0  aba decides against community broadcasting lic...      0\n",
       "1     act fire witnesses must be aware of defamation      1\n",
       "2     a g calls for infrastructure protection summit      2\n",
       "3           air nz staff in aust strike for pay rise      3\n",
       "4      air nz strike to affect australian travellers      4"
      ]
     },
     "execution_count": 42,
     "metadata": {},
     "output_type": "execute_result"
    }
   ],
   "source": [
    "documents[:5]"
   ]
  },
  {
   "cell_type": "code",
   "execution_count": 43,
   "metadata": {},
   "outputs": [],
   "source": [
    "stemmer = SnowballStemmer('english')"
   ]
  },
  {
   "cell_type": "code",
   "execution_count": null,
   "metadata": {},
   "outputs": [],
   "source": [
    "\n"
   ]
  },
  {
   "cell_type": "code",
   "execution_count": 44,
   "metadata": {},
   "outputs": [],
   "source": [
    "def lemmatize_stemming(text):\n",
    "    return stemmer.stem(WordNetLemmatizer().lemmatize(text, pos='v'))\n",
    "\n",
    "def preprocess(text):\n",
    "    result = []\n",
    "    for token in gensim.utils.simple_preprocess(text):\n",
    "        if token not in gensim.parsing.preprocessing.STOPWORDS and len(token) > 3:\n",
    "            result.append(lemmatize_stemming(token))\n",
    "    return result"
   ]
  },
  {
   "cell_type": "code",
   "execution_count": 45,
   "metadata": {},
   "outputs": [
    {
     "name": "stdout",
     "output_type": "stream",
     "text": [
      "original document: \n",
      "['rain', 'helps', 'dampen', 'bushfires']\n",
      "\n",
      " tokenized and lemmatized document: \n",
      "['rain', 'help', 'dampen', 'bushfir']\n"
     ]
    }
   ],
   "source": [
    "doc_sample = documents[documents['index'] == 4310].values[0][0]\n",
    "\n",
    "print('original document: ')\n",
    "words = []\n",
    "for word in doc_sample.split(' '):\n",
    "    words.append(word)\n",
    "print(words)\n",
    "print('\\n tokenized and lemmatized document: ')\n",
    "print(preprocess(doc_sample))"
   ]
  },
  {
   "cell_type": "code",
   "execution_count": 18,
   "metadata": {},
   "outputs": [],
   "source": [
    "processed_docs = documents['headline_text'].map(preprocess)"
   ]
  },
  {
   "cell_type": "code",
   "execution_count": 19,
   "metadata": {
    "scrolled": true
   },
   "outputs": [
    {
     "data": {
      "text/plain": [
       "0            [decid, communiti, broadcast, licenc]\n",
       "1                               [wit, awar, defam]\n",
       "2           [call, infrastructur, protect, summit]\n",
       "3                      [staff, aust, strike, rise]\n",
       "4             [strike, affect, australian, travel]\n",
       "5               [ambiti, olsson, win, tripl, jump]\n",
       "6           [antic, delight, record, break, barca]\n",
       "7    [aussi, qualifi, stosur, wast, memphi, match]\n",
       "8            [aust, address, secur, council, iraq]\n",
       "9                         [australia, lock, timet]\n",
       "Name: headline_text, dtype: object"
      ]
     },
     "execution_count": 19,
     "metadata": {},
     "output_type": "execute_result"
    }
   ],
   "source": [
    "processed_docs[:10]"
   ]
  },
  {
   "cell_type": "markdown",
   "metadata": {},
   "source": [
    "To convert documents to vectors, we’ll use a document representation called bag-of-words. In this representation, each document is represented by one vector where each vector element represents a question-answer pair, in the style of:\n",
    "\n",
    "    “How many times does the word system appear in the document?\""
   ]
  },
  {
   "cell_type": "code",
   "execution_count": 20,
   "metadata": {},
   "outputs": [],
   "source": [
    "dictionary = gensim.corpora.Dictionary(processed_docs)"
   ]
  },
  {
   "cell_type": "code",
   "execution_count": 46,
   "metadata": {},
   "outputs": [
    {
     "name": "stdout",
     "output_type": "stream",
     "text": [
      "Dictionary(13917 unique tokens: ['broadcast', 'communiti', 'decid', 'licenc', 'awar']...)\n"
     ]
    }
   ],
   "source": [
    "print(dictionary)"
   ]
  },
  {
   "cell_type": "code",
   "execution_count": 21,
   "metadata": {
    "scrolled": true
   },
   "outputs": [
    {
     "name": "stdout",
     "output_type": "stream",
     "text": [
      "0 broadcast\n",
      "1 communiti\n",
      "2 decid\n",
      "3 licenc\n",
      "4 awar\n",
      "5 defam\n",
      "6 wit\n",
      "7 call\n",
      "8 infrastructur\n",
      "9 protect\n",
      "10 summit\n"
     ]
    }
   ],
   "source": [
    "count = 0\n",
    "for k, v in dictionary.iteritems():\n",
    "    print(k, v)\n",
    "    count += 1\n",
    "    if count > 10:\n",
    "        break"
   ]
  },
  {
   "cell_type": "code",
   "execution_count": 24,
   "metadata": {},
   "outputs": [],
   "source": [
    "dictionary.filter_extremes(no_below=15, no_above=0.5, keep_n=100000)"
   ]
  },
  {
   "cell_type": "markdown",
   "metadata": {},
   "source": [
    "The function doc2bow() simply counts the number of occurrences of each distinct word, converts the word to its integer word id and returns the result as a sparse vector"
   ]
  },
  {
   "cell_type": "code",
   "execution_count": 25,
   "metadata": {},
   "outputs": [
    {
     "data": {
      "text/plain": [
       "[(76, 1), (112, 1), (483, 1), (4009, 1)]"
      ]
     },
     "execution_count": 25,
     "metadata": {},
     "output_type": "execute_result"
    }
   ],
   "source": [
    "bow_corpus = [dictionary.doc2bow(doc) for doc in processed_docs]\n",
    "bow_corpus[4310]"
   ]
  },
  {
   "cell_type": "code",
   "execution_count": 27,
   "metadata": {},
   "outputs": [
    {
     "name": "stdout",
     "output_type": "stream",
     "text": [
      "Word 76 (\"bushfir\") appears 1 time.\n",
      "Word 112 (\"help\") appears 1 time.\n",
      "Word 483 (\"rain\") appears 1 time.\n",
      "Word 4009 (\"dampen\") appears 1 time.\n"
     ]
    }
   ],
   "source": [
    "bow_doc_4310 = bow_corpus[4310]\n",
    "\n",
    "for i in range(len(bow_doc_4310)):\n",
    "    print(\"Word {} (\\\"{}\\\") appears {} time.\".format(bow_doc_4310[i][0],dictionary[bow_doc_4310[i][0]], bow_doc_4310[i][1]))"
   ]
  },
  {
   "cell_type": "markdown",
   "metadata": {},
   "source": [
    "**tf-idf**"
   ]
  },
  {
   "cell_type": "code",
   "execution_count": 28,
   "metadata": {},
   "outputs": [],
   "source": [
    "from gensim import corpora, models\n",
    "tfidf = models.TfidfModel(bow_corpus)"
   ]
  },
  {
   "cell_type": "code",
   "execution_count": 29,
   "metadata": {},
   "outputs": [],
   "source": [
    "corpus_tfidf = tfidf[bow_corpus]"
   ]
  },
  {
   "cell_type": "code",
   "execution_count": 30,
   "metadata": {},
   "outputs": [
    {
     "name": "stdout",
     "output_type": "stream",
     "text": [
      "[(0, 0.5902626795041239),\n",
      " (1, 0.3892065020004992),\n",
      " (2, 0.4955704490710528),\n",
      " (3, 0.5044979662918994)]\n"
     ]
    }
   ],
   "source": [
    "from pprint import pprint\n",
    "\n",
    "for doc in corpus_tfidf:\n",
    "    pprint(doc)\n",
    "    break"
   ]
  },
  {
   "cell_type": "markdown",
   "metadata": {},
   "source": [
    "#### Running LDA using Bag of words"
   ]
  },
  {
   "cell_type": "code",
   "execution_count": 31,
   "metadata": {},
   "outputs": [],
   "source": [
    "lda_model = gensim.models.LdaMulticore(bow_corpus, num_topics=10, id2word=dictionary, passes=2, workers=2)"
   ]
  },
  {
   "cell_type": "code",
   "execution_count": 32,
   "metadata": {},
   "outputs": [
    {
     "name": "stdout",
     "output_type": "stream",
     "text": [
      "Topic: 0 \n",
      "Words: 0.030*\"elect\" + 0.027*\"south\" + 0.016*\"say\" + 0.015*\"labor\" + 0.014*\"australia\" + 0.014*\"break\" + 0.012*\"meet\" + 0.011*\"minist\" + 0.010*\"royal\" + 0.010*\"hill\"\n",
      "Topic: 1 \n",
      "Words: 0.022*\"canberra\" + 0.021*\"death\" + 0.021*\"plan\" + 0.017*\"council\" + 0.014*\"concern\" + 0.013*\"north\" + 0.013*\"support\" + 0.013*\"road\" + 0.013*\"turnbul\" + 0.012*\"park\"\n",
      "Topic: 2 \n",
      "Words: 0.027*\"queensland\" + 0.026*\"year\" + 0.017*\"live\" + 0.014*\"farmer\" + 0.012*\"farm\" + 0.011*\"record\" + 0.010*\"green\" + 0.010*\"australia\" + 0.009*\"game\" + 0.008*\"launch\"\n",
      "Topic: 3 \n",
      "Words: 0.030*\"charg\" + 0.027*\"court\" + 0.022*\"murder\" + 0.019*\"crash\" + 0.018*\"face\" + 0.016*\"interview\" + 0.015*\"jail\" + 0.015*\"woman\" + 0.015*\"die\" + 0.015*\"alleg\"\n",
      "Topic: 4 \n",
      "Words: 0.023*\"market\" + 0.016*\"rise\" + 0.016*\"coast\" + 0.016*\"share\" + 0.015*\"price\" + 0.015*\"gold\" + 0.014*\"island\" + 0.014*\"high\" + 0.014*\"fall\" + 0.013*\"busi\"\n",
      "Topic: 5 \n",
      "Words: 0.030*\"govern\" + 0.018*\"rural\" + 0.017*\"school\" + 0.016*\"hour\" + 0.015*\"hospit\" + 0.015*\"health\" + 0.014*\"hous\" + 0.014*\"tasmanian\" + 0.013*\"fund\" + 0.011*\"feder\"\n",
      "Topic: 6 \n",
      "Words: 0.027*\"trump\" + 0.024*\"australia\" + 0.022*\"countri\" + 0.021*\"open\" + 0.018*\"test\" + 0.017*\"final\" + 0.015*\"world\" + 0.013*\"leagu\" + 0.011*\"close\" + 0.011*\"beat\"\n",
      "Topic: 7 \n",
      "Words: 0.025*\"kill\" + 0.019*\"australian\" + 0.019*\"china\" + 0.019*\"women\" + 0.015*\"attack\" + 0.013*\"protest\" + 0.012*\"donald\" + 0.011*\"forc\" + 0.009*\"refuge\" + 0.009*\"drum\"\n",
      "Topic: 8 \n",
      "Words: 0.024*\"home\" + 0.019*\"win\" + 0.015*\"melbourn\" + 0.015*\"flood\" + 0.015*\"worker\" + 0.015*\"nation\" + 0.014*\"lose\" + 0.014*\"return\" + 0.013*\"news\" + 0.011*\"parti\"\n",
      "Topic: 9 \n",
      "Words: 0.046*\"polic\" + 0.029*\"sydney\" + 0.025*\"adelaid\" + 0.018*\"miss\" + 0.018*\"brisban\" + 0.014*\"investig\" + 0.014*\"fight\" + 0.014*\"children\" + 0.013*\"deal\" + 0.013*\"victoria\"\n"
     ]
    }
   ],
   "source": [
    "for idx, topic in lda_model.print_topics(-1):\n",
    "    print('Topic: {} \\nWords: {}'.format(idx, topic))\n"
   ]
  },
  {
   "cell_type": "markdown",
   "metadata": {},
   "source": [
    "#### Running LDA using tf-idf"
   ]
  },
  {
   "cell_type": "code",
   "execution_count": 33,
   "metadata": {},
   "outputs": [],
   "source": [
    "lda_model_tfidf = gensim.models.LdaMulticore(corpus_tfidf, num_topics=10, id2word=dictionary, passes=2, workers=4)"
   ]
  },
  {
   "cell_type": "code",
   "execution_count": 34,
   "metadata": {},
   "outputs": [
    {
     "name": "stdout",
     "output_type": "stream",
     "text": [
      "Topic: 0 Word: 0.022*\"countri\" + 0.020*\"hour\" + 0.019*\"rural\" + 0.016*\"market\" + 0.015*\"trump\" + 0.013*\"news\" + 0.011*\"podcast\" + 0.009*\"share\" + 0.008*\"price\" + 0.007*\"turnbul\"\n",
      "Topic: 1 Word: 0.011*\"kill\" + 0.007*\"peter\" + 0.007*\"hunter\" + 0.006*\"dead\" + 0.006*\"capit\" + 0.006*\"attack\" + 0.006*\"invest\" + 0.005*\"social\" + 0.005*\"valley\" + 0.005*\"harvest\"\n",
      "Topic: 2 Word: 0.010*\"abbott\" + 0.009*\"hobart\" + 0.009*\"plead\" + 0.009*\"health\" + 0.008*\"mental\" + 0.007*\"legal\" + 0.007*\"action\" + 0.006*\"jam\" + 0.006*\"bail\" + 0.006*\"guilti\"\n",
      "Topic: 3 Word: 0.009*\"australia\" + 0.009*\"world\" + 0.008*\"leagu\" + 0.006*\"rugbi\" + 0.006*\"dairi\" + 0.006*\"asylum\" + 0.006*\"august\" + 0.005*\"year\" + 0.005*\"seeker\" + 0.005*\"wall\"\n",
      "Topic: 4 Word: 0.012*\"govern\" + 0.007*\"fund\" + 0.007*\"live\" + 0.006*\"plan\" + 0.005*\"council\" + 0.005*\"say\" + 0.005*\"coal\" + 0.005*\"budget\" + 0.005*\"wednesday\" + 0.005*\"energi\"\n",
      "Topic: 5 Word: 0.014*\"coast\" + 0.011*\"weather\" + 0.009*\"gold\" + 0.008*\"sport\" + 0.008*\"donald\" + 0.007*\"juli\" + 0.007*\"michael\" + 0.006*\"care\" + 0.005*\"flood\" + 0.005*\"updat\"\n",
      "Topic: 6 Word: 0.010*\"grandstand\" + 0.007*\"climat\" + 0.007*\"march\" + 0.007*\"friday\" + 0.006*\"islam\" + 0.005*\"korea\" + 0.005*\"wrap\" + 0.005*\"april\" + 0.005*\"australia\" + 0.005*\"kid\"\n",
      "Topic: 7 Word: 0.019*\"charg\" + 0.019*\"polic\" + 0.015*\"murder\" + 0.015*\"court\" + 0.011*\"jail\" + 0.010*\"death\" + 0.010*\"woman\" + 0.010*\"alleg\" + 0.009*\"arrest\" + 0.009*\"shoot\"\n",
      "Topic: 8 Word: 0.012*\"drum\" + 0.009*\"john\" + 0.009*\"queensland\" + 0.008*\"octob\" + 0.008*\"christma\" + 0.007*\"tuesday\" + 0.007*\"novemb\" + 0.007*\"east\" + 0.006*\"decemb\" + 0.006*\"toni\"\n",
      "Topic: 9 Word: 0.017*\"interview\" + 0.011*\"crash\" + 0.009*\"road\" + 0.008*\"miss\" + 0.008*\"search\" + 0.006*\"truck\" + 0.006*\"mount\" + 0.005*\"plane\" + 0.005*\"river\" + 0.005*\"die\"\n"
     ]
    }
   ],
   "source": [
    "for idx, topic in lda_model_tfidf.print_topics(-1):\n",
    "    print('Topic: {} Word: {}'.format(idx, topic))"
   ]
  },
  {
   "cell_type": "markdown",
   "metadata": {},
   "source": [
    "#### Performance evaluation"
   ]
  },
  {
   "cell_type": "code",
   "execution_count": 35,
   "metadata": {},
   "outputs": [
    {
     "data": {
      "text/plain": [
       "['rain', 'help', 'dampen', 'bushfir']"
      ]
     },
     "execution_count": 35,
     "metadata": {},
     "output_type": "execute_result"
    }
   ],
   "source": [
    "processed_docs[4310]"
   ]
  },
  {
   "cell_type": "code",
   "execution_count": 36,
   "metadata": {},
   "outputs": [
    {
     "name": "stdout",
     "output_type": "stream",
     "text": [
      "\n",
      "Score: 0.5296608209609985\t \n",
      "Topic: 0.027*\"queensland\" + 0.026*\"year\" + 0.017*\"live\" + 0.014*\"farmer\" + 0.012*\"farm\" + 0.011*\"record\" + 0.010*\"green\" + 0.010*\"australia\" + 0.009*\"game\" + 0.008*\"launch\"\n",
      "\n",
      "Score: 0.3102540671825409\t \n",
      "Topic: 0.030*\"govern\" + 0.018*\"rural\" + 0.017*\"school\" + 0.016*\"hour\" + 0.015*\"hospit\" + 0.015*\"health\" + 0.014*\"hous\" + 0.014*\"tasmanian\" + 0.013*\"fund\" + 0.011*\"feder\"\n",
      "\n",
      "Score: 0.020011356100440025\t \n",
      "Topic: 0.046*\"polic\" + 0.029*\"sydney\" + 0.025*\"adelaid\" + 0.018*\"miss\" + 0.018*\"brisban\" + 0.014*\"investig\" + 0.014*\"fight\" + 0.014*\"children\" + 0.013*\"deal\" + 0.013*\"victoria\"\n",
      "\n",
      "Score: 0.02001091279089451\t \n",
      "Topic: 0.023*\"market\" + 0.016*\"rise\" + 0.016*\"coast\" + 0.016*\"share\" + 0.015*\"price\" + 0.015*\"gold\" + 0.014*\"island\" + 0.014*\"high\" + 0.014*\"fall\" + 0.013*\"busi\"\n",
      "\n",
      "Score: 0.020010557025671005\t \n",
      "Topic: 0.030*\"charg\" + 0.027*\"court\" + 0.022*\"murder\" + 0.019*\"crash\" + 0.018*\"face\" + 0.016*\"interview\" + 0.015*\"jail\" + 0.015*\"woman\" + 0.015*\"die\" + 0.015*\"alleg\"\n",
      "\n",
      "Score: 0.020010454580187798\t \n",
      "Topic: 0.030*\"elect\" + 0.027*\"south\" + 0.016*\"say\" + 0.015*\"labor\" + 0.014*\"australia\" + 0.014*\"break\" + 0.012*\"meet\" + 0.011*\"minist\" + 0.010*\"royal\" + 0.010*\"hill\"\n",
      "\n",
      "Score: 0.020010454580187798\t \n",
      "Topic: 0.022*\"canberra\" + 0.021*\"death\" + 0.021*\"plan\" + 0.017*\"council\" + 0.014*\"concern\" + 0.013*\"north\" + 0.013*\"support\" + 0.013*\"road\" + 0.013*\"turnbul\" + 0.012*\"park\"\n",
      "\n",
      "Score: 0.020010454580187798\t \n",
      "Topic: 0.027*\"trump\" + 0.024*\"australia\" + 0.022*\"countri\" + 0.021*\"open\" + 0.018*\"test\" + 0.017*\"final\" + 0.015*\"world\" + 0.013*\"leagu\" + 0.011*\"close\" + 0.011*\"beat\"\n",
      "\n",
      "Score: 0.020010454580187798\t \n",
      "Topic: 0.025*\"kill\" + 0.019*\"australian\" + 0.019*\"china\" + 0.019*\"women\" + 0.015*\"attack\" + 0.013*\"protest\" + 0.012*\"donald\" + 0.011*\"forc\" + 0.009*\"refuge\" + 0.009*\"drum\"\n",
      "\n",
      "Score: 0.020010454580187798\t \n",
      "Topic: 0.024*\"home\" + 0.019*\"win\" + 0.015*\"melbourn\" + 0.015*\"flood\" + 0.015*\"worker\" + 0.015*\"nation\" + 0.014*\"lose\" + 0.014*\"return\" + 0.013*\"news\" + 0.011*\"parti\"\n"
     ]
    }
   ],
   "source": [
    "for index, score in sorted(lda_model[bow_corpus[4310]], key=lambda tup: -1*tup[1]):\n",
    "    print(\"\\nScore: {}\\t \\nTopic: {}\".format(score, lda_model.print_topic(index, 10)))"
   ]
  },
  {
   "cell_type": "code",
   "execution_count": 37,
   "metadata": {},
   "outputs": [
    {
     "name": "stdout",
     "output_type": "stream",
     "text": [
      "\n",
      "Score: 0.5745734572410583\t \n",
      "Topic: 0.012*\"drum\" + 0.009*\"john\" + 0.009*\"queensland\" + 0.008*\"octob\" + 0.008*\"christma\" + 0.007*\"tuesday\" + 0.007*\"novemb\" + 0.007*\"east\" + 0.006*\"decemb\" + 0.006*\"toni\"\n",
      "\n",
      "Score: 0.26531392335891724\t \n",
      "Topic: 0.019*\"charg\" + 0.019*\"polic\" + 0.015*\"murder\" + 0.015*\"court\" + 0.011*\"jail\" + 0.010*\"death\" + 0.010*\"woman\" + 0.010*\"alleg\" + 0.009*\"arrest\" + 0.009*\"shoot\"\n",
      "\n",
      "Score: 0.020022476091980934\t \n",
      "Topic: 0.011*\"kill\" + 0.007*\"peter\" + 0.007*\"hunter\" + 0.006*\"dead\" + 0.006*\"capit\" + 0.006*\"attack\" + 0.006*\"invest\" + 0.005*\"social\" + 0.005*\"valley\" + 0.005*\"harvest\"\n",
      "\n",
      "Score: 0.020015636458992958\t \n",
      "Topic: 0.014*\"coast\" + 0.011*\"weather\" + 0.009*\"gold\" + 0.008*\"sport\" + 0.008*\"donald\" + 0.007*\"juli\" + 0.007*\"michael\" + 0.006*\"care\" + 0.005*\"flood\" + 0.005*\"updat\"\n",
      "\n",
      "Score: 0.0200152900069952\t \n",
      "Topic: 0.017*\"interview\" + 0.011*\"crash\" + 0.009*\"road\" + 0.008*\"miss\" + 0.008*\"search\" + 0.006*\"truck\" + 0.006*\"mount\" + 0.005*\"plane\" + 0.005*\"river\" + 0.005*\"die\"\n",
      "\n",
      "Score: 0.02001306414604187\t \n",
      "Topic: 0.012*\"govern\" + 0.007*\"fund\" + 0.007*\"live\" + 0.006*\"plan\" + 0.005*\"council\" + 0.005*\"say\" + 0.005*\"coal\" + 0.005*\"budget\" + 0.005*\"wednesday\" + 0.005*\"energi\"\n",
      "\n",
      "Score: 0.020012415945529938\t \n",
      "Topic: 0.009*\"australia\" + 0.009*\"world\" + 0.008*\"leagu\" + 0.006*\"rugbi\" + 0.006*\"dairi\" + 0.006*\"asylum\" + 0.006*\"august\" + 0.005*\"year\" + 0.005*\"seeker\" + 0.005*\"wall\"\n",
      "\n",
      "Score: 0.020011989399790764\t \n",
      "Topic: 0.010*\"abbott\" + 0.009*\"hobart\" + 0.009*\"plead\" + 0.009*\"health\" + 0.008*\"mental\" + 0.007*\"legal\" + 0.007*\"action\" + 0.006*\"jam\" + 0.006*\"bail\" + 0.006*\"guilti\"\n",
      "\n",
      "Score: 0.02001095749437809\t \n",
      "Topic: 0.010*\"grandstand\" + 0.007*\"climat\" + 0.007*\"march\" + 0.007*\"friday\" + 0.006*\"islam\" + 0.005*\"korea\" + 0.005*\"wrap\" + 0.005*\"april\" + 0.005*\"australia\" + 0.005*\"kid\"\n",
      "\n",
      "Score: 0.020010801032185555\t \n",
      "Topic: 0.022*\"countri\" + 0.020*\"hour\" + 0.019*\"rural\" + 0.016*\"market\" + 0.015*\"trump\" + 0.013*\"news\" + 0.011*\"podcast\" + 0.009*\"share\" + 0.008*\"price\" + 0.007*\"turnbul\"\n"
     ]
    }
   ],
   "source": [
    "for index, score in sorted(lda_model_tfidf[bow_corpus[4310]], key=lambda tup: -1*tup[1]):\n",
    "    print(\"\\nScore: {}\\t \\nTopic: {}\".format(score, lda_model_tfidf.print_topic(index, 10)))"
   ]
  },
  {
   "cell_type": "code",
   "execution_count": 48,
   "metadata": {},
   "outputs": [
    {
     "name": "stdout",
     "output_type": "stream",
     "text": [
      "\n",
      "Score: 0.1834942102432251\t \n",
      "Topic: 0.046*\"polic\" + 0.029*\"sydney\" + 0.025*\"adelaid\" + 0.018*\"miss\" + 0.018*\"brisban\"\n",
      "\n",
      "Score: 0.18347421288490295\t \n",
      "Topic: 0.030*\"elect\" + 0.027*\"south\" + 0.016*\"say\" + 0.015*\"labor\" + 0.014*\"australia\"\n",
      "\n",
      "Score: 0.1833483874797821\t \n",
      "Topic: 0.027*\"queensland\" + 0.026*\"year\" + 0.017*\"live\" + 0.014*\"farmer\" + 0.012*\"farm\"\n",
      "\n",
      "Score: 0.18332456052303314\t \n",
      "Topic: 0.030*\"charg\" + 0.027*\"court\" + 0.022*\"murder\" + 0.019*\"crash\" + 0.018*\"face\"\n",
      "\n",
      "Score: 0.18294648826122284\t \n",
      "Topic: 0.025*\"kill\" + 0.019*\"australian\" + 0.019*\"china\" + 0.019*\"women\" + 0.015*\"attack\"\n",
      "\n",
      "Score: 0.016682423651218414\t \n",
      "Topic: 0.022*\"canberra\" + 0.021*\"death\" + 0.021*\"plan\" + 0.017*\"council\" + 0.014*\"concern\"\n",
      "\n",
      "Score: 0.016682423651218414\t \n",
      "Topic: 0.023*\"market\" + 0.016*\"rise\" + 0.016*\"coast\" + 0.016*\"share\" + 0.015*\"price\"\n",
      "\n",
      "Score: 0.016682423651218414\t \n",
      "Topic: 0.030*\"govern\" + 0.018*\"rural\" + 0.017*\"school\" + 0.016*\"hour\" + 0.015*\"hospit\"\n",
      "\n",
      "Score: 0.016682423651218414\t \n",
      "Topic: 0.027*\"trump\" + 0.024*\"australia\" + 0.022*\"countri\" + 0.021*\"open\" + 0.018*\"test\"\n",
      "\n",
      "Score: 0.016682423651218414\t \n",
      "Topic: 0.024*\"home\" + 0.019*\"win\" + 0.015*\"melbourn\" + 0.015*\"flood\" + 0.015*\"worker\"\n"
     ]
    }
   ],
   "source": [
    "unseen_document = 'How a Pentagon deal became an identity crisis for Google'\n",
    "bow_vector = dictionary.doc2bow(preprocess(unseen_document))\n",
    "for index, score in sorted(lda_model[bow_vector], key=lambda tup: -1*tup[1]):\n",
    "  print(\"\\nScore: {}\\t \\nTopic: {}\".format(score, lda_model.print_topic(index, 5)))\n",
    "  "
   ]
  },
  {
   "cell_type": "code",
   "execution_count": 49,
   "metadata": {},
   "outputs": [
    {
     "name": "stdout",
     "output_type": "stream",
     "text": [
      "\n",
      "Score: 0.5499468445777893\t \n",
      "Topic: 0.030*\"govern\" + 0.018*\"rural\" + 0.017*\"school\" + 0.016*\"hour\" + 0.015*\"hospit\"\n",
      "\n",
      "Score: 0.05000590905547142\t \n",
      "Topic: 0.030*\"elect\" + 0.027*\"south\" + 0.016*\"say\" + 0.015*\"labor\" + 0.014*\"australia\"\n",
      "\n",
      "Score: 0.05000590905547142\t \n",
      "Topic: 0.022*\"canberra\" + 0.021*\"death\" + 0.021*\"plan\" + 0.017*\"council\" + 0.014*\"concern\"\n",
      "\n",
      "Score: 0.05000590905547142\t \n",
      "Topic: 0.027*\"queensland\" + 0.026*\"year\" + 0.017*\"live\" + 0.014*\"farmer\" + 0.012*\"farm\"\n",
      "\n",
      "Score: 0.05000590905547142\t \n",
      "Topic: 0.030*\"charg\" + 0.027*\"court\" + 0.022*\"murder\" + 0.019*\"crash\" + 0.018*\"face\"\n",
      "\n",
      "Score: 0.05000590905547142\t \n",
      "Topic: 0.023*\"market\" + 0.016*\"rise\" + 0.016*\"coast\" + 0.016*\"share\" + 0.015*\"price\"\n",
      "\n",
      "Score: 0.05000590905547142\t \n",
      "Topic: 0.027*\"trump\" + 0.024*\"australia\" + 0.022*\"countri\" + 0.021*\"open\" + 0.018*\"test\"\n",
      "\n",
      "Score: 0.05000590905547142\t \n",
      "Topic: 0.025*\"kill\" + 0.019*\"australian\" + 0.019*\"china\" + 0.019*\"women\" + 0.015*\"attack\"\n",
      "\n",
      "Score: 0.05000590905547142\t \n",
      "Topic: 0.024*\"home\" + 0.019*\"win\" + 0.015*\"melbourn\" + 0.015*\"flood\" + 0.015*\"worker\"\n",
      "\n",
      "Score: 0.05000590905547142\t \n",
      "Topic: 0.046*\"polic\" + 0.029*\"sydney\" + 0.025*\"adelaid\" + 0.018*\"miss\" + 0.018*\"brisban\"\n"
     ]
    }
   ],
   "source": [
    "unseen_document = 'Ideas are bulletproof Mr. Creeedy'\n",
    "bow_vector = dictionary.doc2bow(preprocess(unseen_document))\n",
    "for index, score in sorted(lda_model[bow_vector], key=lambda tup: -1*tup[1]):\n",
    "  print(\"\\nScore: {}\\t \\nTopic: {}\".format(score, lda_model.print_topic(index, 5)))\n",
    "  "
   ]
  },
  {
   "cell_type": "code",
   "execution_count": null,
   "metadata": {},
   "outputs": [],
   "source": []
  }
 ],
 "metadata": {
  "kernelspec": {
   "display_name": "Python 3",
   "language": "python",
   "name": "python3"
  },
  "language_info": {
   "codemirror_mode": {
    "name": "ipython",
    "version": 3
   },
   "file_extension": ".py",
   "mimetype": "text/x-python",
   "name": "python",
   "nbconvert_exporter": "python",
   "pygments_lexer": "ipython3",
   "version": "3.6.7"
  }
 },
 "nbformat": 4,
 "nbformat_minor": 2
}
